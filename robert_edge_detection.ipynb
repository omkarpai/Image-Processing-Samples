{
 "cells": [
  {
   "cell_type": "code",
   "execution_count": 1,
   "metadata": {},
   "outputs": [
    {
     "name": "stdout",
     "output_type": "stream",
     "text": [
      "\n",
      "Please check your working directory for the Edges using Roberts Mask!!\n"
     ]
    }
   ],
   "source": [
    "import cv2\n",
    "import numpy as np\n",
    "\n",
    "x_gradient = np.array([[1,0],[0,-1]])\n",
    "y_gradient = np.array([[0,1],[-1,0]])\n",
    "\n",
    "def padding (image):\n",
    "    res_image = np.pad(image,((0,1),(0,1)), mode='constant', constant_values=0)\n",
    "    rows,col = np.shape(image)\n",
    "    filter_operation(x_gradient,y_gradient,res_image,image)\n",
    "    \n",
    "def filter_operation(x_gradient,y_gradient,res_image,image):\n",
    "    rows,col = np.shape(image)\n",
    "    final_image = np.zeros([rows,col])\n",
    "    image_xgrad = np.zeros([rows,col])\n",
    "    image_ygrad = np.zeros([rows,col])\n",
    "   \n",
    "    for i in range(int(rows)):\n",
    "        for j in range(int(col)):\n",
    "            output1 = x_gradient[0][0] * res_image[i][j]\n",
    "            output2 = x_gradient[0][1] * res_image[i][j+1]\n",
    "            output3 = x_gradient[1][0] * res_image[i+1][j]\n",
    "            output4 = x_gradient[1][1] * res_image[i+1][j+1]\n",
    "            \n",
    "            out = output1+output2+output3+output4\n",
    "            if(out>= 255):\n",
    "                out = 255\n",
    "            if(out < 0):\n",
    "                out = 0\n",
    "            image_xgrad[i][j] = int(out)\n",
    "            \n",
    "    for i in range(int(rows)):\n",
    "        for j in range(int(col)):\n",
    "            output1 = y_gradient[0][0] * res_image[i][j]\n",
    "            output2 = y_gradient[0][1] * res_image[i][j+1]\n",
    "            output3 = y_gradient[1][0] * res_image[i+1][j]\n",
    "            output4 = y_gradient[1][1] * res_image[i+1][j+1]\n",
    "            \n",
    "            out = output1+output2+output3+output4\n",
    "            if(out>= 255):\n",
    "                out = 255\n",
    "            if(out < 0):\n",
    "                out = 0\n",
    "            image_ygrad[i][j] = int(out)   \n",
    "            \n",
    "    \n",
    "    final_image = image_xgrad + image_ygrad\n",
    "    cv2.imwrite('Robert.png',final_image)\n",
    "    #cv2.imwrite('GrayImage.png',image)\n",
    "    print(\"\\nPlease check your working directory for the Edges using Roberts Mask!!\")\n",
    "\n",
    "image = cv2.imread(\"ip.png\",0)\n",
    "padding(image)            "
   ]
  },
  {
   "cell_type": "code",
   "execution_count": null,
   "metadata": {},
   "outputs": [],
   "source": []
  },
  {
   "cell_type": "code",
   "execution_count": null,
   "metadata": {},
   "outputs": [],
   "source": []
  },
  {
   "cell_type": "code",
   "execution_count": null,
   "metadata": {},
   "outputs": [],
   "source": []
  }
 ],
 "metadata": {
  "kernelspec": {
   "display_name": "Python 3",
   "language": "python",
   "name": "python3"
  },
  "language_info": {
   "codemirror_mode": {
    "name": "ipython",
    "version": 3
   },
   "file_extension": ".py",
   "mimetype": "text/x-python",
   "name": "python",
   "nbconvert_exporter": "python",
   "pygments_lexer": "ipython3",
   "version": "3.5.4"
  }
 },
 "nbformat": 4,
 "nbformat_minor": 2
}
