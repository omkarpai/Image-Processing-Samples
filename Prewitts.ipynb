{
 "cells": [
  {
   "cell_type": "code",
   "execution_count": 2,
   "metadata": {},
   "outputs": [
    {
     "name": "stdout",
     "output_type": "stream",
     "text": [
      "\n",
      "Please check your working directory for the Edges using Prewitts Mask!!\n"
     ]
    }
   ],
   "source": [
    "import cv2\n",
    "import numpy as np\n",
    "\n",
    "x_gradient = np.array([[-1,-1,-1],[0,0,0],[1,1,1]])\n",
    "y_gradient = np.array([[-1,0,1],[-1,0,1],[-1,0,1]])\n",
    "\n",
    "def padding(image):\n",
    "    a=3 #denotes that size of filter is 3*3\n",
    "    res_image = np.pad(image, pad_width=[(int(a),int(a))], mode='constant', constant_values=0)\n",
    "    rows,col = np.shape(image)\n",
    "    filter_operation(x_gradient,y_gradient,res_image,image,a)\n",
    "    \n",
    "def filter_operation(x_gradient,y_gradient,res_image,image,a):\n",
    "    rows,col = np.shape(image)\n",
    "    image_xgrad = np.zeros([rows,col])\n",
    "    image_ygrad = np.zeros([rows,col])\n",
    "    prewitts = np.zeros([rows,col])\n",
    "    \n",
    "    for i in range(int(rows)):\n",
    "        for j in range(int(col)):\n",
    "            output1 = x_gradient[1][1] * res_image[a+i][a+j]\n",
    "            output2 = x_gradient[0][1] * res_image[a+i-1][a+j]\n",
    "            output3 = x_gradient[2][1] * res_image[a+i+1][a+j]\n",
    "            output4 = x_gradient[0][0] * res_image[a+i-1][a+j-1]\n",
    "            output5 = x_gradient[1][0] * res_image[a+i][a+j-1]\n",
    "            output6 = x_gradient[2][0] * res_image[a+i+1][a+j-1]\n",
    "            output7 = x_gradient[0][2] * res_image[a+i-1][a+j+1]\n",
    "            output8 = x_gradient[1][2] * res_image[a+i][a+j+1]\n",
    "            output9 = x_gradient[2][2] * res_image[a+i+1][a+j+1]\n",
    "            out = output1+output2+output3+output4+output5+output6+output7+output8+output9\n",
    "            if(out>= 255):\n",
    "                out = 255\n",
    "            if(out < 0):\n",
    "                out = 0\n",
    "            image_xgrad[i][j] = int(out)\n",
    "            \n",
    "    for i in range(int(rows)):\n",
    "        for j in range(int(col)):\n",
    "            output1 = y_gradient[1][1] * res_image[a+i][a+j]\n",
    "            output2 = y_gradient[0][1] * res_image[a+i-1][a+j]\n",
    "            output3 = y_gradient[2][1] * res_image[a+i+1][a+j]\n",
    "            output4 = y_gradient[0][0] * res_image[a+i-1][a+j-1]\n",
    "            output5 = y_gradient[1][0] * res_image[a+i][a+j-1]\n",
    "            output6 = y_gradient[2][0] * res_image[a+i+1][a+j-1]\n",
    "            output7 = y_gradient[0][2] * res_image[a+i-1][a+j+1]\n",
    "            output8 = y_gradient[1][2] * res_image[a+i][a+j+1]\n",
    "            output9 = y_gradient[2][2] * res_image[a+i+1][a+j+1]\n",
    "            out = output1+output2+output3+output4+output5+output6+output7+output8+output9\n",
    "            if(out>= 255):\n",
    "                out = 255\n",
    "            if(out < 0):\n",
    "                out = 0\n",
    "            image_ygrad[i][j] = int(out)\n",
    "            \n",
    "    prewitts = image_ygrad + image_xgrad\n",
    "    cv2.imwrite('Prewitts.png',prewitts)\n",
    "    #cv2.imwrite('GrayImage.png',image)\n",
    "    print(\"\\nPlease check your working directory for the Edges using Prewitts Mask!!\")\n",
    "    \n",
    "image = cv2.imread(\"ip.png\",0)\n",
    "padding(image)            "
   ]
  },
  {
   "cell_type": "code",
   "execution_count": null,
   "metadata": {},
   "outputs": [],
   "source": []
  }
 ],
 "metadata": {
  "kernelspec": {
   "display_name": "Python 3",
   "language": "python",
   "name": "python3"
  },
  "language_info": {
   "codemirror_mode": {
    "name": "ipython",
    "version": 3
   },
   "file_extension": ".py",
   "mimetype": "text/x-python",
   "name": "python",
   "nbconvert_exporter": "python",
   "pygments_lexer": "ipython3",
   "version": "3.5.4"
  }
 },
 "nbformat": 4,
 "nbformat_minor": 2
}
